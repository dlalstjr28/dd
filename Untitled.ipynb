{
 "cells": [
  {
   "cell_type": "code",
   "execution_count": 70,
   "metadata": {},
   "outputs": [],
   "source": [
    "import pandas as pd\n",
    "import hashlib"
   ]
  },
  {
   "cell_type": "code",
   "execution_count": 71,
   "metadata": {},
   "outputs": [
    {
     "name": "stdout",
     "output_type": "stream",
     "text": [
      "       fruits  year  time\n",
      "0       apple  2001     1\n",
      "1      orange  2002     4\n",
      "2      banana  2001     5\n",
      "3  strawberry  2008     6\n",
      "4   kiwifruit  2006     3\n"
     ]
    }
   ],
   "source": [
    "data = {\"fruits\": [\"apple\",\"orange\",\"banana\",\"strawberry\",\"kiwifruit\"],\"year\":[2001,2002,2001,2008,2006],\"time\":[1,4,5,6,3]}\n",
    "df = pd.DataFrame(data)\n",
    "print(df)"
   ]
  },
  {
   "cell_type": "code",
   "execution_count": 72,
   "metadata": {},
   "outputs": [],
   "source": [
    "df.to_csv(\"test.csv\",mode = 'w')"
   ]
  },
  {
   "cell_type": "code",
   "execution_count": 73,
   "metadata": {},
   "outputs": [
    {
     "name": "stdout",
     "output_type": "stream",
     "text": [
      "       fruits  year  time\n",
      "0       apple  2001     1\n",
      "1      orange  2002     4\n",
      "2      banana  2001     5\n",
      "3  strawberry  2008     6\n",
      "4   kiwifruit  2006     3\n"
     ]
    }
   ],
   "source": [
    "printest = pd.read_csv(\"test.csv\", index_col =0)\n",
    "print(printest)"
   ]
  },
  {
   "cell_type": "code",
   "execution_count": 74,
   "metadata": {},
   "outputs": [
    {
     "name": "stdout",
     "output_type": "stream",
     "text": [
      "      samsung  iphone   block  nokia\n",
      "year     2002    2001    3000   1111\n",
      "cash   200000  500000  100000  50000\n"
     ]
    }
   ],
   "source": [
    "phone = [\"samsung\",\"iphone\",\"block\"]\n",
    "year = [2002,2001,3000]\n",
    "cash = [200000,500000,100000]\n",
    "test = pd.Series(year,index=phone)\n",
    "test1 = pd.Series([1111,50000],index=[\"year\",\"cash\"])\n",
    "test2 = pd.Series(cash,index=phone)\n",
    "test3 = pd.DataFrame([test,test2])\n",
    "test3.index = [\"year\",\"cash\"]\n",
    "test3[\"nokia\"] = test1\n",
    "print(test3)"
   ]
  },
  {
   "cell_type": "code",
   "execution_count": 75,
   "metadata": {},
   "outputs": [
    {
     "name": "stdout",
     "output_type": "stream",
     "text": [
      "      samsung  iphone   block  nokia\n",
      "year     2002    2002    3000   1111\n",
      "cash     2002    2002  100000  50000\n"
     ]
    }
   ],
   "source": [
    "test3.loc[[\"year\",\"cash\"],[\"iphone\",\"samsung\"]]= 2002\n",
    "print(test3)"
   ]
  },
  {
   "cell_type": "code",
   "execution_count": 76,
   "metadata": {},
   "outputs": [
    {
     "name": "stdout",
     "output_type": "stream",
     "text": [
      "Index(['year', 'cash'], dtype='object')\n"
     ]
    }
   ],
   "source": [
    "print(test3.index)"
   ]
  },
  {
   "cell_type": "code",
   "execution_count": 77,
   "metadata": {},
   "outputs": [],
   "source": [
    "test4 = df"
   ]
  },
  {
   "cell_type": "code",
   "execution_count": 80,
   "metadata": {},
   "outputs": [],
   "source": [
    "test5 = pd.concat([df,df],axis=1)"
   ]
  },
  {
   "cell_type": "code",
   "execution_count": 82,
   "metadata": {},
   "outputs": [
    {
     "name": "stdout",
     "output_type": "stream",
     "text": [
      "       fruits  year  time\n",
      "0       apple  2001     1\n",
      "1      orange  2002     4\n",
      "2      banana  2001     5\n",
      "3  strawberry  2008     6\n",
      "4   kiwifruit  2006     3\n",
      "\n",
      "       fruits  year  time      fruits  year  time\n",
      "0       apple  2001     1       apple  2001     1\n",
      "1      orange  2002     4      orange  2002     4\n",
      "2      banana  2001     5      banana  2001     5\n",
      "3  strawberry  2008     6  strawberry  2008     6\n",
      "4   kiwifruit  2006     3   kiwifruit  2006     3\n",
      "       fruits  year  time\n",
      "0       apple  2001     1\n",
      "1      orange  2002     4\n",
      "2      banana  2001     5\n",
      "3  strawberry  2008     6\n",
      "4   kiwifruit  2006     3\n",
      "0       apple  2001     1\n",
      "1      orange  2002     4\n",
      "2      banana  2001     5\n",
      "3  strawberry  2008     6\n",
      "4   kiwifruit  2006     3\n"
     ]
    }
   ],
   "source": [
    "print(test4)\n",
    "print()\n",
    "print(test5)\n",
    "print(pd.concat([df,df],axis=0))"
   ]
  },
  {
   "cell_type": "code",
   "execution_count": null,
   "metadata": {},
   "outputs": [],
   "source": []
  },
  {
   "cell_type": "code",
   "execution_count": null,
   "metadata": {},
   "outputs": [],
   "source": []
  }
 ],
 "metadata": {
  "kernelspec": {
   "display_name": "Python 3",
   "language": "python",
   "name": "python3"
  },
  "language_info": {
   "codemirror_mode": {
    "name": "ipython",
    "version": 3
   },
   "file_extension": ".py",
   "mimetype": "text/x-python",
   "name": "python",
   "nbconvert_exporter": "python",
   "pygments_lexer": "ipython3",
   "version": "3.8.3"
  }
 },
 "nbformat": 4,
 "nbformat_minor": 4
}
